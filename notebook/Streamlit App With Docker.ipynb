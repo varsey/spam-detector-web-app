{
 "cells": [
  {
   "cell_type": "markdown",
   "id": "alert-characteristic",
   "metadata": {},
   "source": [
    "# Develop a simple Message Classifier"
   ]
  },
  {
   "cell_type": "markdown",
   "id": "signal-naples",
   "metadata": {},
   "source": [
    "### libraries"
   ]
  },
  {
   "cell_type": "code",
   "execution_count": 1,
   "id": "compound-recommendation",
   "metadata": {
    "ExecuteTime": {
     "start_time": "2023-04-08T09:43:53.929799Z",
     "end_time": "2023-04-08T09:43:54.525261Z"
    }
   },
   "outputs": [],
   "source": [
    "import os\n",
    "import joblib\n",
    "import pandas as pd\n",
    "from sklearn.feature_extraction.text import CountVectorizer\n",
    "from sklearn.model_selection import train_test_split\n",
    "from sklearn.naive_bayes import MultinomialNB\n",
    "from sklearn.metrics import classification_report"
   ]
  },
  {
   "cell_type": "code",
   "execution_count": 2,
   "id": "interpreted-shipping",
   "metadata": {
    "ExecuteTime": {
     "start_time": "2023-04-08T09:43:54.527350Z",
     "end_time": "2023-04-08T09:43:54.543751Z"
    }
   },
   "outputs": [
    {
     "data": {
      "text/plain": "       v1                                                 v2 Unnamed: 2  \\\n1498  ham  Time n Smile r the two crucial things in our l...        NaN   \n2833  ham                      U sick still can go shopping?        NaN   \n213   ham                           Yup... How Ì_ noe leh...        NaN   \n\n     Unnamed: 3 Unnamed: 4  \n1498        NaN        NaN  \n2833        NaN        NaN  \n213         NaN        NaN  ",
      "text/html": "<div>\n<style scoped>\n    .dataframe tbody tr th:only-of-type {\n        vertical-align: middle;\n    }\n\n    .dataframe tbody tr th {\n        vertical-align: top;\n    }\n\n    .dataframe thead th {\n        text-align: right;\n    }\n</style>\n<table border=\"1\" class=\"dataframe\">\n  <thead>\n    <tr style=\"text-align: right;\">\n      <th></th>\n      <th>v1</th>\n      <th>v2</th>\n      <th>Unnamed: 2</th>\n      <th>Unnamed: 3</th>\n      <th>Unnamed: 4</th>\n    </tr>\n  </thead>\n  <tbody>\n    <tr>\n      <th>1498</th>\n      <td>ham</td>\n      <td>Time n Smile r the two crucial things in our l...</td>\n      <td>NaN</td>\n      <td>NaN</td>\n      <td>NaN</td>\n    </tr>\n    <tr>\n      <th>2833</th>\n      <td>ham</td>\n      <td>U sick still can go shopping?</td>\n      <td>NaN</td>\n      <td>NaN</td>\n      <td>NaN</td>\n    </tr>\n    <tr>\n      <th>213</th>\n      <td>ham</td>\n      <td>Yup... How Ì_ noe leh...</td>\n      <td>NaN</td>\n      <td>NaN</td>\n      <td>NaN</td>\n    </tr>\n  </tbody>\n</table>\n</div>"
     },
     "execution_count": 2,
     "metadata": {},
     "output_type": "execute_result"
    }
   ],
   "source": [
    "spam_data = pd.read_csv(os.getcwd() + '/data/spam.csv', encoding=\"latin-1\")\n",
    "spam_data.sample(3)"
   ]
  },
  {
   "cell_type": "code",
   "execution_count": 3,
   "id": "vital-donor",
   "metadata": {
    "ExecuteTime": {
     "start_time": "2023-04-08T09:43:54.543651Z",
     "end_time": "2023-04-08T09:43:54.563772Z"
    }
   },
   "outputs": [
    {
     "data": {
      "text/plain": "\"Free entry in 2 a wkly comp to win FA Cup final tkts 21st May 2005. Text FA to 87121 to receive entry question(std txt rate)T&C's apply 08452810075over18's\""
     },
     "execution_count": 3,
     "metadata": {},
     "output_type": "execute_result"
    }
   ],
   "source": [
    "spam_data.iloc[2].v2"
   ]
  },
  {
   "cell_type": "code",
   "execution_count": 4,
   "id": "critical-discovery",
   "metadata": {
    "ExecuteTime": {
     "start_time": "2023-04-08T09:43:54.548052Z",
     "end_time": "2023-04-08T09:43:54.564209Z"
    }
   },
   "outputs": [
    {
     "data": {
      "text/plain": "array(['ham', 'spam'], dtype=object)"
     },
     "execution_count": 4,
     "metadata": {},
     "output_type": "execute_result"
    }
   ],
   "source": [
    "# Check the v1 column values\n",
    "spam_data.v1.unique()"
   ]
  },
  {
   "cell_type": "markdown",
   "id": "terminal-polish",
   "metadata": {},
   "source": [
    "**Observation:** we have two labels, which corresponds to a 2-class classification problem.  \n",
    "Then, we need to encode those two labels into numerical format for model training.  "
   ]
  },
  {
   "cell_type": "code",
   "execution_count": 5,
   "id": "directed-mixer",
   "metadata": {
    "ExecuteTime": {
     "start_time": "2023-04-08T09:43:54.557247Z",
     "end_time": "2023-04-08T09:43:54.653955Z"
    }
   },
   "outputs": [
    {
     "data": {
      "text/plain": "       v1                                               v2 Unnamed: 2  \\\n1582  ham  Yep, at derek's house now, see you Sunday &lt;3        NaN   \n2569  ham         Ultimately tor motive tui achieve korli.        NaN   \n5118  ham                     Are you driving or training?        NaN   \n\n     Unnamed: 3 Unnamed: 4  label  \n1582        NaN        NaN      0  \n2569        NaN        NaN      0  \n5118        NaN        NaN      0  ",
      "text/html": "<div>\n<style scoped>\n    .dataframe tbody tr th:only-of-type {\n        vertical-align: middle;\n    }\n\n    .dataframe tbody tr th {\n        vertical-align: top;\n    }\n\n    .dataframe thead th {\n        text-align: right;\n    }\n</style>\n<table border=\"1\" class=\"dataframe\">\n  <thead>\n    <tr style=\"text-align: right;\">\n      <th></th>\n      <th>v1</th>\n      <th>v2</th>\n      <th>Unnamed: 2</th>\n      <th>Unnamed: 3</th>\n      <th>Unnamed: 4</th>\n      <th>label</th>\n    </tr>\n  </thead>\n  <tbody>\n    <tr>\n      <th>1582</th>\n      <td>ham</td>\n      <td>Yep, at derek's house now, see you Sunday &amp;lt;3</td>\n      <td>NaN</td>\n      <td>NaN</td>\n      <td>NaN</td>\n      <td>0</td>\n    </tr>\n    <tr>\n      <th>2569</th>\n      <td>ham</td>\n      <td>Ultimately tor motive tui achieve korli.</td>\n      <td>NaN</td>\n      <td>NaN</td>\n      <td>NaN</td>\n      <td>0</td>\n    </tr>\n    <tr>\n      <th>5118</th>\n      <td>ham</td>\n      <td>Are you driving or training?</td>\n      <td>NaN</td>\n      <td>NaN</td>\n      <td>NaN</td>\n      <td>0</td>\n    </tr>\n  </tbody>\n</table>\n</div>"
     },
     "execution_count": 5,
     "metadata": {},
     "output_type": "execute_result"
    }
   ],
   "source": [
    "# Encode the ham and spam\n",
    "spam_data['label'] = spam_data['v1'].map({'ham': 0, 'spam': 1})\n",
    "spam_data.sample(3)"
   ]
  },
  {
   "cell_type": "markdown",
   "id": "velvet-shadow",
   "metadata": {},
   "source": [
    "**Observation:** we created the new column and we are now going to keep the following two columns:  \n",
    "- **v2** for X   \n",
    "- **label**  for y"
   ]
  },
  {
   "cell_type": "code",
   "execution_count": 6,
   "id": "optional-spine",
   "metadata": {
    "ExecuteTime": {
     "start_time": "2023-04-08T09:43:54.601932Z",
     "end_time": "2023-04-08T09:43:54.654183Z"
    }
   },
   "outputs": [],
   "source": [
    "X = spam_data['v2']\n",
    "y = spam_data['label']"
   ]
  },
  {
   "cell_type": "markdown",
   "id": "sacred-complex",
   "metadata": {},
   "source": [
    "### Model Training.    \n",
    "Since the goal is mainly about deploying the model with streamlit, we won't spend time on finding the best model, but a very simple one (Naive Bayes in our case), in order to continue the deployment process.  "
   ]
  },
  {
   "cell_type": "code",
   "execution_count": 7,
   "id": "expanded-muscle",
   "metadata": {
    "ExecuteTime": {
     "start_time": "2023-04-08T09:43:54.601992Z",
     "end_time": "2023-04-08T09:43:54.702892Z"
    }
   },
   "outputs": [
    {
     "name": "stdout",
     "output_type": "stream",
     "text": [
      "              precision    recall  f1-score   support\n",
      "\n",
      "           0       0.99      0.99      0.99      1594\n",
      "           1       0.95      0.93      0.94       245\n",
      "\n",
      "    accuracy                           0.98      1839\n",
      "   macro avg       0.97      0.96      0.96      1839\n",
      "weighted avg       0.98      0.98      0.98      1839\n",
      "\n"
     ]
    }
   ],
   "source": [
    "cv = CountVectorizer()\n",
    "X = cv.fit_transform(X) # Fit the Data\n",
    "\n",
    "X_train, X_test, y_train, y_test = train_test_split(X, y, test_size=0.33, random_state=2021)\n",
    "\n",
    "#Naive Bayes Classifier\n",
    "clf = MultinomialNB()\n",
    "clf.fit(X_train,y_train)\n",
    "clf.score(X_test,y_test)\n",
    "y_pred = clf.predict(X_test)\n",
    "print(classification_report(y_test, y_pred))"
   ]
  },
  {
   "cell_type": "code",
   "execution_count": 9,
   "id": "optimum-transport",
   "metadata": {
    "ExecuteTime": {
     "start_time": "2023-04-08T09:44:20.996736Z",
     "end_time": "2023-04-08T09:44:21.000993Z"
    }
   },
   "outputs": [
    {
     "data": {
      "text/plain": "['/home/varsey-fabuza/PycharmProjects/spam-detector-streamlit-app/notebooks/models/spam_detector_model.pkl']"
     },
     "execution_count": 9,
     "metadata": {},
     "output_type": "execute_result"
    }
   ],
   "source": [
    "# Persist the model\n",
    "joblib.dump(clf, os.getcwd() + '/models/spam_detector_model.pkl')"
   ]
  },
  {
   "cell_type": "code",
   "execution_count": null,
   "outputs": [],
   "source": [
    "# Persist the model\n",
    "joblib.dump(clf, os.getcwd() + '/models/spam_detector_model.pkl')"
   ],
   "metadata": {
    "collapsed": false
   }
  },
  {
   "cell_type": "code",
   "execution_count": 10,
   "outputs": [
    {
     "data": {
      "text/plain": "['/home/varsey-fabuza/PycharmProjects/spam-detector-streamlit-app/notebooks/models/vectorizer.pkl']"
     },
     "execution_count": 10,
     "metadata": {},
     "output_type": "execute_result"
    }
   ],
   "source": [
    "# Persist the model\n",
    "joblib.dump(cv, os.getcwd() + '/models/vectorizer.pkl')"
   ],
   "metadata": {
    "collapsed": false,
    "ExecuteTime": {
     "start_time": "2023-04-08T10:10:09.369207Z",
     "end_time": "2023-04-08T10:10:09.412116Z"
    }
   }
  },
  {
   "cell_type": "code",
   "execution_count": null,
   "outputs": [],
   "source": [],
   "metadata": {
    "collapsed": false
   }
  }
 ],
 "metadata": {
  "kernelspec": {
   "display_name": "Python 3",
   "language": "python",
   "name": "python3"
  },
  "language_info": {
   "codemirror_mode": {
    "name": "ipython",
    "version": 3
   },
   "file_extension": ".py",
   "mimetype": "text/x-python",
   "name": "python",
   "nbconvert_exporter": "python",
   "pygments_lexer": "ipython3",
   "version": "3.6.8"
  },
  "toc": {
   "base_numbering": 1,
   "nav_menu": {},
   "number_sections": true,
   "sideBar": true,
   "skip_h1_title": false,
   "title_cell": "Table of Contents",
   "title_sidebar": "Contents",
   "toc_cell": false,
   "toc_position": {},
   "toc_section_display": true,
   "toc_window_display": false
  }
 },
 "nbformat": 4,
 "nbformat_minor": 5
}
